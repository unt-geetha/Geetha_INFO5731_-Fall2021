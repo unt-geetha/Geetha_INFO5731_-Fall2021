{
  "cells": [
    {
      "cell_type": "markdown",
      "metadata": {
        "id": "view-in-github",
        "colab_type": "text"
      },
      "source": [
        "<a href=\"https://colab.research.google.com/github/unt-geetha/Geetha_INFO5731_-Fall2021/blob/main/palreddy_geethagayatri_exercise_1.ipynb\" target=\"_parent\"><img src=\"https://colab.research.google.com/assets/colab-badge.svg\" alt=\"Open In Colab\"/></a>"
      ]
    },
    {
      "cell_type": "markdown",
      "metadata": {
        "id": "DymRJbxDBCnf"
      },
      "source": [
        "# **The first In-class-exercise (08/30/2023, 40 points in total)**\n",
        "This exercise is due tomorrow 08/31/203 11:59 PM.\n"
      ]
    },
    {
      "cell_type": "markdown",
      "metadata": {
        "id": "FBKvD6O_TY6e"
      },
      "source": [
        "(1) Write a Python program to calculate the area of a rectangle using user-input length and width."
      ]
    },
    {
      "cell_type": "code",
      "execution_count": 2,
      "metadata": {
        "id": "cikVKDXdTbzE",
        "outputId": "a5aee2d0-c565-441f-a023-6bfe0f0678e9",
        "colab": {
          "base_uri": "https://localhost:8080/"
        }
      },
      "outputs": [
        {
          "output_type": "stream",
          "name": "stdout",
          "text": [
            "length of the rectangle: 2\n",
            "width of the rectangle: 3\n",
            "area of the rectangle : 6.0\n"
          ]
        }
      ],
      "source": [
        "# write your answer here\n",
        "\n",
        "# Get user input for length and width\n",
        "len= float(input(\"length of the rectangle: \"))\n",
        "wid = float(input(\"width of the rectangle: \"))\n",
        "\n",
        "# Calculating the area\n",
        "area1 = len * wid\n",
        "\n",
        "# printing result\n",
        "print(\"area of the rectangle :\", area1)\n"
      ]
    },
    {
      "cell_type": "markdown",
      "metadata": {
        "id": "E9RqrlwdTfvl"
      },
      "source": [
        "(2) Create a program that takes two numbers from the user and swaps their values without using a temporary variable."
      ]
    },
    {
      "cell_type": "code",
      "execution_count": 3,
      "metadata": {
        "id": "4XvRknixTh1g",
        "outputId": "b80d1ce2-2458-4b61-99f5-71ed5f2b1e66",
        "colab": {
          "base_uri": "https://localhost:8080/"
        }
      },
      "outputs": [
        {
          "output_type": "stream",
          "name": "stdout",
          "text": [
            "Enter number1: 2\n",
            "Enter number2: 3\n",
            "After swapping of numbers:\n",
            "number1: 3.0\n",
            "number2: 2.0\n"
          ]
        }
      ],
      "source": [
        "# write your answer here\n",
        "\n",
        "# Giving user input for two numbers\n",
        "n1 = float(input(\"Enter number1: \"))\n",
        "n2 = float(input(\"Enter number2: \"))\n",
        "\n",
        "# Swapping two numbers without using temporary variable\n",
        "n1 = n1 + n2\n",
        "n2 = n1 - n2\n",
        "n1 = n1 - n2\n",
        "\n",
        "# swapped values\n",
        "print(\"After swapping of numbers:\")\n",
        "print(\"number1:\", n1)\n",
        "print(\"number2:\", n2)"
      ]
    },
    {
      "cell_type": "markdown",
      "metadata": {
        "id": "03jb4GZsBkBS"
      },
      "source": [
        "(3) Write a Python program to calculate the length of a string."
      ]
    },
    {
      "cell_type": "code",
      "execution_count": 1,
      "metadata": {
        "id": "YaGLbSHHB8Ej",
        "outputId": "841ac9b4-ae72-4f2c-b4a7-3fe6b3456a00",
        "colab": {
          "base_uri": "https://localhost:8080/"
        }
      },
      "outputs": [
        {
          "output_type": "stream",
          "name": "stdout",
          "text": [
            "Enter a string: hello world\n",
            "The length of the string is: 11\n"
          ]
        }
      ],
      "source": [
        "# write your answer here\n",
        "\n",
        "# Get user input\n",
        "input_string = input(\"Enter a string: \")\n",
        "\n",
        "# Calculate the length of the string\n",
        "length = len(input_string)\n",
        "\n",
        "# Display the result\n",
        "print(\"The length of the string is:\", length)\n",
        "\n"
      ]
    },
    {
      "cell_type": "markdown",
      "metadata": {
        "id": "jJDe71iLB616"
      },
      "source": [
        "(4) Write a Python program to count the number of characters in a string.\n",
        "\n",
        "Sample String : 'google.com‘,\n",
        "\n",
        "Expected Result : {'o': 3, 'g': 2, '.': 1, 'e': 1, 'l': 1, 'm': 1, 'c': 1}"
      ]
    },
    {
      "cell_type": "code",
      "execution_count": 4,
      "metadata": {
        "id": "MtKskTzbCLaU",
        "outputId": "221f73ea-17a1-40b0-f7d6-15a528d771ad",
        "colab": {
          "base_uri": "https://localhost:8080/"
        }
      },
      "outputs": [
        {
          "output_type": "stream",
          "name": "stdout",
          "text": [
            "string: hii\n",
            "Character counts: {'h': 1, 'i': 2}\n"
          ]
        }
      ],
      "source": [
        "# write your answer here\n",
        "# Giving user input\n",
        "string_input = input(\"string: \")\n",
        "\n",
        "# Create a empty dictionary to hold the counts of characters\n",
        "count_charachter = {}\n",
        "\n",
        "# Counting characters in the string\n",
        "for char in string_input:\n",
        "    if char in count_charachter:\n",
        "        count_charachter[char] += 1\n",
        "    else:\n",
        "        count_charachter[char] = 1\n",
        "\n",
        "# printing result\n",
        "print(\"Character counts:\", count_charachter)\n",
        "\n",
        "\n"
      ]
    },
    {
      "cell_type": "markdown",
      "metadata": {
        "id": "55W9AMdXCSpV"
      },
      "source": [
        "(5) Write a Python program to sum all the items in a list."
      ]
    },
    {
      "cell_type": "code",
      "execution_count": 5,
      "metadata": {
        "id": "I57NXsauCec2",
        "outputId": "83a24c33-6b46-44ef-d408-e759cbcc1614",
        "colab": {
          "base_uri": "https://localhost:8080/"
        }
      },
      "outputs": [
        {
          "output_type": "stream",
          "name": "stdout",
          "text": [
            "list of numbers: 2 3 4\n",
            "The sum of the numbers is: 9.0\n"
          ]
        }
      ],
      "source": [
        "# write your answer here\n",
        "\n",
        "# Giving user input\n",
        "list_input = input(\"list of numbers: \").split()\n",
        "numb = [float(num) for num in list_input]\n",
        "\n",
        "# Calculating the sum\n",
        "sum_num= sum(numb)\n",
        "\n",
        "# printing result\n",
        "print(\"The sum of the numbers is:\", sum_num)\n"
      ]
    },
    {
      "cell_type": "markdown",
      "metadata": {
        "id": "4ulBZ6yhCi9F"
      },
      "source": [
        "(6) Write a Python program to get a string from a given string where all occurrences of its first char have been changed to '\\$', except the first char itself.\n",
        "\n",
        "Sample String : 'restart‘,\n",
        "\n",
        "Expected Result : 'resta\\$t'"
      ]
    },
    {
      "cell_type": "code",
      "execution_count": 7,
      "metadata": {
        "id": "Fj0XhwbBCw2o",
        "outputId": "dce3ae73-0736-4190-9623-78ebcdf6f0e0",
        "colab": {
          "base_uri": "https://localhost:8080/"
        }
      },
      "outputs": [
        {
          "output_type": "stream",
          "name": "stdout",
          "text": [
            "string: rarm\n",
            "string after modification: ra*m\n"
          ]
        }
      ],
      "source": [
        "# write your answer here\n",
        "\n",
        "#  Giving user input\n",
        "string_input  = input(\"string: \")\n",
        "\n",
        "# Giving first character in the string\n",
        "char1 = string_input [0]\n",
        "\n",
        "# Substitute all instances of the initial character with '*', excluding the first instance.\n",
        "string_m = char1 + string_input [1:].replace(char1, '*')\n",
        "\n",
        "# printing modified string\n",
        "print(\"string after modification:\", string_m )\n",
        "\n"
      ]
    },
    {
      "cell_type": "markdown",
      "metadata": {
        "id": "qVXA3q7ET5JI"
      },
      "source": [
        "(7) Create a program that calculates the factorial of a number using a while loop."
      ]
    },
    {
      "cell_type": "code",
      "execution_count": 8,
      "metadata": {
        "id": "Lbt7R6UkT7BA",
        "outputId": "ec3abca6-933d-4992-d152-28ff988b7395",
        "colab": {
          "base_uri": "https://localhost:8080/"
        }
      },
      "outputs": [
        {
          "output_type": "stream",
          "name": "stdout",
          "text": [
            "number: 8\n",
            "8 factorial is: 40320\n"
          ]
        }
      ],
      "source": [
        "# write your answer here\n",
        "\n",
        "# Get user input for the number\n",
        "n = int(input(\"number: \"))\n",
        "\n",
        "# Initializing variables\n",
        "factorial = 1\n",
        "current = 1\n",
        "\n",
        "# Calculating factorial\n",
        "while current <= n:\n",
        "    factorial *= current\n",
        "    current += 1\n",
        "\n",
        "# print factorial\n",
        "print(f\"{n} factorial is:\", factorial)"
      ]
    },
    {
      "cell_type": "markdown",
      "metadata": {
        "id": "6YfbzXMNT--R"
      },
      "source": [
        "(8) Create a program that takes a list of numbers as input and outputs a new list with only the even numbers."
      ]
    },
    {
      "cell_type": "code",
      "execution_count": 9,
      "metadata": {
        "id": "54q7wMQPUAKu",
        "outputId": "5065322f-65de-4dc6-807d-fcdeff4b4209",
        "colab": {
          "base_uri": "https://localhost:8080/"
        }
      },
      "outputs": [
        {
          "output_type": "stream",
          "name": "stdout",
          "text": [
            "numbers list separated by spaces: 1 2 3\n",
            "even numbers list: [2]\n"
          ]
        }
      ],
      "source": [
        "# write your answer here\n",
        "\n",
        "# Giving user input\n",
        "list_input= input(\"numbers list separated by spaces: \").split()\n",
        "\n",
        "# Converting input strings into numbers\n",
        "numbers = [int(num) for num in list_input]\n",
        "\n",
        "# Creating another list with even numbers\n",
        "num_e = [num for num in numbers if num % 2 == 0]\n",
        "\n",
        "# printing list of even numbers\n",
        "print(\"even numbers list:\", num_e)\n"
      ]
    },
    {
      "cell_type": "markdown",
      "metadata": {
        "id": "_bIP7s1MCzue"
      },
      "source": [
        "(9) Write a program with python which could accept two parameter a and b to calculate and output the result of S, where\n",
        "\n",
        "$\\ S=3.14*(1+a/b)^3$\n",
        "\n"
      ]
    },
    {
      "cell_type": "code",
      "execution_count": 10,
      "metadata": {
        "id": "w79QilHXD3Mg",
        "outputId": "2c2ecb67-2b48-481a-c6d7-bf5ff6c9ba2b",
        "colab": {
          "base_uri": "https://localhost:8080/"
        }
      },
      "outputs": [
        {
          "output_type": "stream",
          "name": "stdout",
          "text": [
            " value of a: 2\n",
            " value of b: 3\n",
            " S  value is: 14.537037037037033\n"
          ]
        }
      ],
      "source": [
        "# write your answer here\n",
        "\n",
        "# Giving user input\n",
        "input_a = float(input(\" value of a: \"))\n",
        "input_b= float(input(\" value of b: \"))\n",
        "\n",
        "# Calculating S\n",
        "S = 3.14 * (1 + input_a / input_b) ** 3\n",
        "\n",
        "# printing result\n",
        "print(\" S  value is:\", S)\n",
        "\n"
      ]
    },
    {
      "cell_type": "markdown",
      "metadata": {
        "id": "xCa2bK9aD4Q3"
      },
      "source": [
        "(10) Write a Python program to concatenate following dictionaries to create a new one.\n",
        "\n",
        "Sample Dictionary : dic1={1:10, 2:20}, dic2={3:30, 4:40}, dic3={5:50,6:60},\n",
        "\n",
        "Expected Result : {1: 10, 2: 20, 3: 30, 4: 40, 5: 50, 6: 60}\n"
      ]
    },
    {
      "cell_type": "code",
      "execution_count": 11,
      "metadata": {
        "id": "_z4aLqAbEET1",
        "outputId": "aaf29823-ac0a-4646-c422-0dba0955e971",
        "colab": {
          "base_uri": "https://localhost:8080/"
        }
      },
      "outputs": [
        {
          "output_type": "stream",
          "name": "stdout",
          "text": [
            "Concatenated dictionary: {1: 10, 2: 20, 3: 30, 4: 40, 5: 50, 6: 60}\n"
          ]
        }
      ],
      "source": [
        "# write your answer here\n",
        "\n",
        "# Sample dictionary\n",
        "d1 = {1: 10, 2: 20}\n",
        "d2 = {3: 30, 4: 40}\n",
        "d3 = {5: 50, 6: 60}\n",
        "\n",
        "# Create a new dictionary\n",
        "r = {}\n",
        "for d in (d1, d2, d3):\n",
        "    r.update(d)\n",
        "\n",
        "# printing result\n",
        "print(\"Concatenated dictionary:\", r)\n"
      ]
    },
    {
      "cell_type": "markdown",
      "metadata": {
        "id": "bkyZ2xSZUOst"
      },
      "source": [
        "(11) Write a Python function that accepts a tuple of integers and returns the largest and smallest elements."
      ]
    },
    {
      "cell_type": "code",
      "execution_count": 12,
      "metadata": {
        "id": "3FdLRBKOUQEd",
        "outputId": "013d3351-f4db-4d4b-9f9e-c095bf134828",
        "colab": {
          "base_uri": "https://localhost:8080/"
        }
      },
      "outputs": [
        {
          "output_type": "stream",
          "name": "stdout",
          "text": [
            "Smallest: 15\n",
            "Largest: 45\n"
          ]
        }
      ],
      "source": [
        "# write your answer here\n",
        "\n",
        "def find_l_s(numbers_tuple):\n",
        "    if not numbers_tuple:\n",
        "        return None, None\n",
        "\n",
        "    s= l = numbers_tuple[0]\n",
        "\n",
        "    for n in numbers_tuple:\n",
        "        if n < s:\n",
        "            s = n\n",
        "        elif n> l:\n",
        "            l = n\n",
        "\n",
        "    return s, l\n",
        "numb = (15, 21, 45, 36)\n",
        "s, l = find_l_s(numb)\n",
        "print(\"Smallest:\", s)\n",
        "print(\"Largest:\", l)"
      ]
    },
    {
      "cell_type": "markdown",
      "metadata": {
        "id": "O0TVi3gKUTpp"
      },
      "source": [
        "(12) Write a Python program that counts the frequency of each character in a given string and stores it in a dictionary."
      ]
    },
    {
      "cell_type": "code",
      "execution_count": 13,
      "metadata": {
        "id": "lAtfSfZXUU-h",
        "outputId": "3335a47e-ddfe-4d74-99b4-39be50e4b201",
        "colab": {
          "base_uri": "https://localhost:8080/"
        }
      },
      "outputs": [
        {
          "output_type": "stream",
          "name": "stdout",
          "text": [
            "string: 4\n",
            "Character frequency:\n",
            "'4': 1\n"
          ]
        }
      ],
      "source": [
        "# write your answer here\n",
        "\n",
        "def char_frequency_count(string_input):\n",
        "    freq_c = {}  # Initialize an empty dictionary\n",
        "\n",
        "    for c in string_input:\n",
        "        if char in freq_c:\n",
        "            freq_c[c] += 1\n",
        "        else:\n",
        "            freq_c[c] = 1\n",
        "\n",
        "    return freq_c\n",
        "\n",
        "# Giving user input\n",
        "string_input = input(\"string: \")\n",
        "\n",
        "# Calculating character frequency\n",
        "freq_dic = char_frequency_count(string_input)\n",
        "\n",
        "# printing character frequency dictionary\n",
        "print(\"Character frequency:\")\n",
        "for c, frequ in freq_dic.items():\n",
        "    print(f\"'{c}': {frequ}\")\n"
      ]
    },
    {
      "cell_type": "markdown",
      "metadata": {
        "id": "0v48Vqa7FrQh"
      },
      "source": [
        "(13) Write a Python program to check whether an element exists within a tuple."
      ]
    },
    {
      "cell_type": "code",
      "execution_count": 14,
      "metadata": {
        "id": "7WEmgq-DF2P1",
        "outputId": "9da4d3cb-c704-4ced-8e2a-29ab32152bdb",
        "colab": {
          "base_uri": "https://localhost:8080/"
        }
      },
      "outputs": [
        {
          "output_type": "stream",
          "name": "stdout",
          "text": [
            "element to search: 30\n",
            "The element 30 does not exist in the tuple.\n"
          ]
        }
      ],
      "source": [
        "#write your answer here\n",
        "\n",
        "def e_exists(el, s_tuple):\n",
        "    return el in s_tuple\n",
        "g_tuple = (5, 15, 25, 40, 50, 45)\n",
        "\n",
        "# Giving user input\n",
        "element_s = int(input(\"element to search: \"))\n",
        "\n",
        "# Check if the element exists in the tuple\n",
        "if e_exists(element_s, g_tuple):\n",
        "    print(f\"The element {element_s} exists in the tuple.\")\n",
        "else:\n",
        "    print(f\"The element {element_s} does not exist in the tuple.\")\n"
      ]
    },
    {
      "cell_type": "markdown",
      "metadata": {
        "id": "vD5PYLMuGga_"
      },
      "source": [
        "(14) Write a Python program to find maximum and the minimum value in a set."
      ]
    },
    {
      "cell_type": "code",
      "execution_count": 15,
      "metadata": {
        "id": "t0D5kdJUGjjw",
        "outputId": "b0976392-640a-4cd9-99c6-f70eb2d22e7c",
        "colab": {
          "base_uri": "https://localhost:8080/"
        }
      },
      "outputs": [
        {
          "output_type": "stream",
          "name": "stdout",
          "text": [
            "Maximum : 65\n",
            "Minimum : 10\n"
          ]
        }
      ],
      "source": [
        "# write your answer here\n",
        "\n",
        "def f_min_max(in_set):\n",
        "    if not in_set:\n",
        "        return None, None\n",
        "\n",
        "    val_max = max(in_set)\n",
        "    val_min = min(in_set)\n",
        "\n",
        "    return val_max, val_min\n",
        "\n",
        "set_1 = {10, 20, 15, 55, 65}\n",
        "\n",
        "# Calculate maximum and minimum values\n",
        "val_max, val_min = f_min_max(set_1)\n",
        "\n",
        "# print results\n",
        "print(\"Maximum :\", val_max)\n",
        "print(\"Minimum :\", val_min)\n"
      ]
    },
    {
      "cell_type": "markdown",
      "metadata": {
        "id": "uHkd-y5VhVWC"
      },
      "source": [
        "(15) Write a Python program to randomly divide the students in this class into six groups for term projects, each group should have at least 4 students but no more than 6 students (including 6). Here is the students list:\n",
        "student_list_fall_2023=['sb1826' ,\n",
        " 'lb0582' ,\n",
        " 'ab1820' ,\n",
        " 'sb1883' ,\n",
        " 'mb1296' ,\n",
        " 'sc1622' ,\n",
        " 'tc0469' ,\n",
        " 'ac1770' ,\n",
        " 'mc1453' ,\n",
        " 'ad1187' ,\n",
        " 'sd0926' ,\n",
        " 'sd1268' ,\n",
        " 'ag1609' ,\n",
        " 'sg1638' ,\n",
        " 'mg1299' ,\n",
        " 'vkk0022' ,\n",
        " 'bk0413' ,\n",
        " 'gk0257' ,\n",
        " 'am2807' ,\n",
        " 'gm0558' ,\n",
        " 'pm0658' ,\n",
        " 'am2346' ,\n",
        " 'rm1090' ,\n",
        " 'sm2364' ,\n",
        " 'sm2747' ,\n",
        " 'sm2343' ,\n",
        " 'vm0597' ,\n",
        " 'htn0086' ,\n",
        " 'sp2075' ,\n",
        " 'gp0306' ,\n",
        " 'lp0502' ,\n",
        " 'sr1508' ,\n",
        " 'vr0331' ,\n",
        " 'yr0180' ,\n",
        " 'as2819' ,\n",
        " 'ss2981' ,\n",
        " 'ns0756' ,\n",
        " 'mt0825' ,\n",
        " 'dt0463' ,\n",
        " 'su0137' ,\n",
        " 'dv0310'\n",
        "]"
      ]
    },
    {
      "cell_type": "code",
      "execution_count": 16,
      "metadata": {
        "id": "3iGbmcOBhTwy",
        "colab": {
          "base_uri": "https://localhost:8080/"
        },
        "outputId": "cd4b2382-9940-4830-a5db-389d36e6cbca"
      },
      "outputs": [
        {
          "output_type": "stream",
          "name": "stdout",
          "text": [
            "Group 1: yr0180, su0137, sb1883, sm2747, ns0756, dt0463\n",
            "Group 2: vkk0022, sm2364, bk0413, gm0558, gk0257, htn0086\n",
            "Group 3: am2346, ac1770, sc1622, mc1453, pm0658, vm0597\n",
            "Group 4: ss2981, mb1296, vr0331, mt0825, gp0306\n",
            "Group 5: lp0502, lb0582, mg1299, rm1090, ad1187, sm2343\n",
            "Group 6: sd1268, sb1826, tc0469, sd0926, sg1638, am2807\n",
            "Group 7: ag1609, sr1508, sp2075, dv0310\n",
            "Group 8: ab1820, as2819\n"
          ]
        }
      ],
      "source": [
        "# write your answer here\n",
        "\n",
        "\n",
        "import random\n",
        "\n",
        "# Students list\n",
        "fall_students = ['sb1826', 'lb0582', 'ab1820', 'sb1883', 'mb1296', 'sc1622', 'tc0469', 'ac1770', 'mc1453', 'ad1187',\n",
        "                           'sd0926', 'sd1268', 'ag1609', 'sg1638', 'mg1299', 'vkk0022', 'bk0413', 'gk0257', 'am2807', 'gm0558',\n",
        "                           'pm0658', 'am2346', 'rm1090', 'sm2364', 'sm2747', 'sm2343', 'vm0597', 'htn0086', 'sp2075', 'gp0306',\n",
        "                           'lp0502', 'sr1508', 'vr0331', 'yr0180', 'as2819', 'ss2981', 'ns0756', 'mt0825', 'dt0463', 'su0137', 'dv0310']\n",
        "\n",
        "# Shuffle the student list randomly\n",
        "random.shuffle(fall_students)\n",
        "\n",
        "# Divide students into groups\n",
        "grps = []\n",
        "grp_range = range(4, 7)  # Group size between 4 and 6 (inclusive)\n",
        "\n",
        "while fall_students:\n",
        "    grp_sz = random.choice(grp_range)\n",
        "    grp = []\n",
        "\n",
        "    for _ in range(grp_sz):\n",
        "        if fall_students:\n",
        "            student = fall_students.pop()\n",
        "            grp.append(student)\n",
        "\n",
        "    grps.append(grp)\n",
        "\n",
        "# Display the groups\n",
        "for x, grp in enumerate(grps, start=1):\n",
        "    print(f\"Group {x}: {', '.join(grp)}\")\n",
        "\n"
      ]
    },
    {
      "cell_type": "markdown",
      "metadata": {
        "id": "fmZ9vX20Qs3d"
      },
      "source": [
        "(16) Write a Python program to find the duplicate elements in a given array of integers. Return -1 If there are no such elements."
      ]
    },
    {
      "cell_type": "code",
      "execution_count": 17,
      "metadata": {
        "id": "W8Jw6sWMQs3d",
        "colab": {
          "base_uri": "https://localhost:8080/"
        },
        "outputId": "e60a20a1-db8a-4297-85c5-1c54c7f26d78"
      },
      "outputs": [
        {
          "output_type": "stream",
          "name": "stdout",
          "text": [
            "Give an input of integer array separated by spaces: 1 2 3\n",
            "No duplicate elements found.\n"
          ]
        }
      ],
      "source": [
        "# write your answer here\n",
        "\n",
        "def fd_dpt_eles(nums):\n",
        "    seen = set()\n",
        "    dpts = set()\n",
        "\n",
        "    for num in nums:\n",
        "        if num in seen:\n",
        "            dpts.add(num)\n",
        "        else:\n",
        "            seen.add(num)\n",
        "\n",
        "    return list(dpts) if dpts else -1\n",
        "\n",
        "# retrieve the inp for arr int\n",
        "input_str = input(\"Give an input of integer array separated by spaces: \")\n",
        "nums = list(map(int, input_str.split()))\n",
        "\n",
        "# Find dpt eles with  fun\n",
        "dpt_ele = fd_dpt_eles(nums)\n",
        "\n",
        "# result\n",
        "if dpt_ele == -1:\n",
        "    print(\"No duplicate elements found.\")\n",
        "else:\n",
        "    print(\"Duplicate elements:\", dpt_ele)\n"
      ]
    },
    {
      "cell_type": "markdown",
      "metadata": {
        "id": "hvq4APMhQs3d"
      },
      "source": [
        "(17) Write a Python program to select all the Sundays of a specified year."
      ]
    },
    {
      "cell_type": "code",
      "execution_count": 18,
      "metadata": {
        "id": "ZnoxhSglQs3d",
        "colab": {
          "base_uri": "https://localhost:8080/"
        },
        "outputId": "afcd8f34-dac9-4385-c1ae-ef944015db36"
      },
      "outputs": [
        {
          "output_type": "stream",
          "name": "stdout",
          "text": [
            "Enter a year: 1999\n",
            "Sundays in 1999:\n",
            "1999-01-03\n",
            "1999-01-10\n",
            "1999-01-17\n",
            "1999-01-24\n",
            "1999-01-31\n",
            "1999-02-07\n",
            "1999-02-14\n",
            "1999-02-21\n",
            "1999-02-28\n",
            "1999-03-07\n",
            "1999-03-14\n",
            "1999-03-21\n",
            "1999-03-28\n",
            "1999-04-04\n",
            "1999-04-11\n",
            "1999-04-18\n",
            "1999-04-25\n",
            "1999-05-02\n",
            "1999-05-09\n",
            "1999-05-16\n",
            "1999-05-23\n",
            "1999-05-30\n",
            "1999-06-06\n",
            "1999-06-13\n",
            "1999-06-20\n",
            "1999-06-27\n",
            "1999-07-04\n",
            "1999-07-11\n",
            "1999-07-18\n",
            "1999-07-25\n",
            "1999-08-01\n",
            "1999-08-08\n",
            "1999-08-15\n",
            "1999-08-22\n",
            "1999-08-29\n",
            "1999-09-05\n",
            "1999-09-12\n",
            "1999-09-19\n",
            "1999-09-26\n",
            "1999-10-03\n",
            "1999-10-10\n",
            "1999-10-17\n",
            "1999-10-24\n",
            "1999-10-31\n",
            "1999-11-07\n",
            "1999-11-14\n",
            "1999-11-21\n",
            "1999-11-28\n",
            "1999-12-05\n",
            "1999-12-12\n",
            "1999-12-19\n",
            "1999-12-26\n"
          ]
        }
      ],
      "source": [
        "# write your answer here\n",
        "\n",
        "# write your answer here\n",
        "\n",
        "\n",
        "import calendar\n",
        "\n",
        "def f_sunday(year):\n",
        "    s = []\n",
        "\n",
        "    for m in range(1, 13):  # Loop through each month\n",
        "        for day in range(1, calendar.monthrange(year, m)[1] + 1):\n",
        "            if calendar.weekday(year, m, day) == calendar.SUNDAY:\n",
        "                s.append(f\"{year}-{m:02d}-{day:02d}\")\n",
        "\n",
        "    return s\n",
        "\n",
        "# Get user input for the year\n",
        "y= int(input(\"Enter a year: \"))\n",
        "\n",
        "# Find Sundays using the function\n",
        "s = f_sunday(y)\n",
        "\n",
        "# Display the list of Sundays\n",
        "if s:\n",
        "    print(f\"Sundays in {y}:\")\n",
        "    for sunday in s:\n",
        "        print(sunday)\n",
        "else:\n",
        "    print(f\"No Sundays found in {y}.\")"
      ]
    },
    {
      "cell_type": "markdown",
      "metadata": {
        "id": "55FWoSJPVVM6"
      },
      "source": [
        "(18) Build a program that calculates the factorial of a given positive integer. The factorial of a non-negative integer n is the product of all positive integers less than or equal to n."
      ]
    },
    {
      "cell_type": "code",
      "execution_count": 20,
      "metadata": {
        "id": "hwtr1wZmVX5A",
        "colab": {
          "base_uri": "https://localhost:8080/"
        },
        "outputId": "c2da91ac-fd12-40b6-eef4-626099d2d1db"
      },
      "outputs": [
        {
          "output_type": "stream",
          "name": "stdout",
          "text": [
            "Give a postive int: 5\n",
            "The factorial of 5 is: 120\n"
          ]
        }
      ],
      "source": [
        "# write your answer here\n",
        "\n",
        "def calc_fac(x):\n",
        "    if x == 0 or x == 1:\n",
        "        return 1\n",
        "    else:\n",
        "        return x * calc_fac(x - 1)\n",
        "\n",
        "# Get user input for a positive integer\n",
        "x = int(input(\"Give a postive int: \"))\n",
        "\n",
        "if x < 0:\n",
        "    print(\"Fac is not defined for neg int.\")\n",
        "else:\n",
        "    fac = calc_fac(x)\n",
        "    print(f\"The factorial of {x} is:\", fac)\n"
      ]
    },
    {
      "cell_type": "markdown",
      "metadata": {
        "id": "Q9ecagcaVazW"
      },
      "source": [
        "(19) Write a program that takes a positive integer n as input and prints the count of even numbers from 1 to n. Use a loop to iterate through the numbers and utilize the break statement to optimize the loop."
      ]
    },
    {
      "cell_type": "code",
      "execution_count": 22,
      "metadata": {
        "id": "gycgckoAVZjR",
        "colab": {
          "base_uri": "https://localhost:8080/"
        },
        "outputId": "343b4af3-2a8f-459d-8d7f-a8a71dc640ed"
      },
      "outputs": [
        {
          "output_type": "stream",
          "name": "stdout",
          "text": [
            "give positive int: 5\n",
            "count from 1 to 5 is: 2\n"
          ]
        }
      ],
      "source": [
        "# write your answer here\n",
        "\n",
        "# Get inp for postive int\n",
        "x = int(input(\"give positive int: \"))\n",
        "\n",
        "# Take a n to initialise number\n",
        "even_count = 0\n",
        "\n",
        "# Iterate and use break to save time\n",
        "for n in range(1, x + 1):\n",
        "    if n % 2 == 0:\n",
        "        even_count += 1\n",
        "    elif n > x:  # Break the loop if n is loop\n",
        "        break\n",
        "\n",
        "# Print count\n",
        "print(f\"count from 1 to {x} is:\", even_count)\n",
        "\n",
        "\n"
      ]
    },
    {
      "cell_type": "markdown",
      "metadata": {
        "id": "cboAr5pEWUf5"
      },
      "source": [
        "(20) Write a Python function called count_vowels that takes a string as input and returns the count of vowels (both lowercase and uppercase) present in the string. Consider the vowels to be 'a', 'e', 'i', 'o', and 'u'. Ignore spaces and other non-alphabetic characters."
      ]
    },
    {
      "cell_type": "code",
      "execution_count": 23,
      "metadata": {
        "id": "phs9gciMWWAW",
        "colab": {
          "base_uri": "https://localhost:8080/"
        },
        "outputId": "db62ed5b-3332-41b3-f885-d837192b8558"
      },
      "outputs": [
        {
          "output_type": "stream",
          "name": "stdout",
          "text": [
            "Enter a string: abce\n",
            "Count of vowels: 2\n"
          ]
        }
      ],
      "source": [
        "# write your answer here\n",
        "\n",
        "def count_vows(inp_str):\n",
        "    vow = \"aeiouAEIOU\"\n",
        "    vow_count = 0\n",
        "\n",
        "    for char in inp_str:\n",
        "        if char in vow:\n",
        "            vow_count += 1\n",
        "\n",
        "    return vow_count\n",
        "\n",
        "# Get user input for the string\n",
        "inp_str = input(\"Enter a string: \")\n",
        "\n",
        "# Calculate vowel count using the function\n",
        "vow_count = count_vows(inp_str)\n",
        "\n",
        "# Display the result\n",
        "print(\"Count of vowels:\", vow_count)\n",
        "\n"
      ]
    },
    {
      "cell_type": "code",
      "execution_count": null,
      "metadata": {
        "id": "msgJeAjo8KXm"
      },
      "outputs": [],
      "source": []
    }
  ],
  "metadata": {
    "colab": {
      "provenance": [],
      "include_colab_link": true
    },
    "kernelspec": {
      "display_name": "Python 3",
      "language": "python",
      "name": "python3"
    },
    "language_info": {
      "codemirror_mode": {
        "name": "ipython",
        "version": 3
      },
      "file_extension": ".py",
      "mimetype": "text/x-python",
      "name": "python",
      "nbconvert_exporter": "python",
      "pygments_lexer": "ipython3",
      "version": "3.8.8"
    }
  },
  "nbformat": 4,
  "nbformat_minor": 0
}